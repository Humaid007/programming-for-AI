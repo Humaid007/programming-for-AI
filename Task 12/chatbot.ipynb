{
 "cells": [
  {
   "cell_type": "markdown",
   "id": "460896c8",
   "metadata": {},
   "source": [
    "# Libraries"
   ]
  },
  {
   "cell_type": "code",
   "execution_count": 15,
   "id": "443c687f",
   "metadata": {},
   "outputs": [],
   "source": [
    "from pymilvus import connections\n",
    "from pymilvus import db\n",
    "from pymilvus import Role, utility\n",
    "from pymilvus import CollectionSchema, FieldSchema, DataType, Collection\n",
    "from sentence_transformers import SentenceTransformer\n",
    "import pandas as pd\n",
    "import json\n"
   ]
  },
  {
   "cell_type": "markdown",
   "id": "990b579a",
   "metadata": {},
   "source": [
    "# Connect to DB"
   ]
  },
  {
   "cell_type": "code",
   "execution_count": 2,
   "id": "03501d82",
   "metadata": {},
   "outputs": [
    {
     "name": "stdout",
     "output_type": "stream",
     "text": [
      "[('default', None), ('learn', <pymilvus.client.grpc_handler.GrpcHandler object at 0x000001FCEC28A900>)]\n",
      "Current databases: ['default']\n",
      "Creating database: wiki_db\n"
     ]
    }
   ],
   "source": [
    "connections.add_connection(\n",
    "    learn={\"host\": \"localhost\", \"port\": \"19530\", \"username\": \"\", \"password\": \"\"}\n",
    ")\n",
    "\n",
    "connection_id = \"learn\"\n",
    "connections.connect(connection_id)\n",
    "\n",
    "print(connections.list_connections())\n",
    "\n",
    "current_dbs = db.list_database(using=connection_id)\n",
    "print(\"Current databases:\", current_dbs)\n",
    "\n",
    "db_name = \"wiki_db\"\n",
    "\n",
    "if db_name not in current_dbs:\n",
    "    print(\"Creating database:\", db_name)\n",
    "    wiki_db = db.create_database(db_name, using=connection_id)\n",
    "\n",
    "db.using_database(db_name, using=connection_id)"
   ]
  },
  {
   "cell_type": "markdown",
   "id": "f4e31371",
   "metadata": {},
   "source": [
    "# Create New User"
   ]
  },
  {
   "cell_type": "code",
   "execution_count": 5,
   "id": "21f1ee30",
   "metadata": {},
   "outputs": [
    {
     "name": "stdout",
     "output_type": "stream",
     "text": [
      "Current User list: ['root']\n",
      "Role public exists? True\n"
     ]
    }
   ],
   "source": [
    "current_users = utility.list_usernames(using=connection_id)\n",
    "\n",
    "print(\"Current User list:\", current_users)\n",
    "\n",
    "new_user = \"wiki_public\"\n",
    "\n",
    "if new_user not in current_users:\n",
    "    utility.create_user(new_user, \"password\", using=connection_id)\n",
    "\n",
    "public_role = Role(\"public\", using=connection_id)\n",
    "print(\"Role public exists?\", public_role.is_exist())\n"
   ]
  },
  {
   "cell_type": "markdown",
   "id": "4649f035",
   "metadata": {},
   "source": [
    "# Create Collection"
   ]
  },
  {
   "cell_type": "code",
   "execution_count": 9,
   "id": "f8307e37",
   "metadata": {},
   "outputs": [
    {
     "name": "stdout",
     "output_type": "stream",
     "text": [
      "Current collections:  ['courses_list', 'Course_List']\n",
      "\n",
      " {'auto_id': False, 'description': 'Courses List', 'fields': [{'name': 'course_id', 'description': '', 'type': <DataType.INT64: 5>, 'is_primary': True, 'auto_id': False}, {'name': 'title', 'description': '', 'type': <DataType.VARCHAR: 21>, 'params': {'max_length': 256}}, {'name': 'description', 'description': '', 'type': <DataType.VARCHAR: 21>, 'params': {'max_length': 2048}}, {'name': 'desc_embedding', 'description': '', 'type': <DataType.FLOAT_VECTOR: 101>, 'params': {'dim': 384}}], 'enable_dynamic_field': True}\n"
     ]
    }
   ],
   "source": [
    "#Define fields\n",
    "course_id = FieldSchema(\n",
    "    name=\"course_id\",\n",
    "    dtype=DataType.INT64,\n",
    "    is_primary=True,\n",
    "    max_length=32)\n",
    "\n",
    "title= FieldSchema(\n",
    "    name=\"title\",\n",
    "    dtype=DataType.VARCHAR,\n",
    "    max_length=256)\n",
    "\n",
    "description= FieldSchema(\n",
    "    name=\"description\",\n",
    "    dtype=DataType.VARCHAR,\n",
    "    max_length=2048)\n",
    "\n",
    "desc_embedding = FieldSchema(\n",
    "    name=\"desc_embedding\",\n",
    "    dtype=DataType.FLOAT_VECTOR,\n",
    "    dim=384\n",
    ")\n",
    "\n",
    "wiki_schema=CollectionSchema(\n",
    "    fields=[course_id, title, description, desc_embedding],\n",
    "    description=\"Courses List\",\n",
    "    enable_dynamic_field=True\n",
    ")\n",
    "\n",
    "collection_name=\"Course_List\"\n",
    "\n",
    "wiki_collection=Collection(\n",
    "    name=collection_name,\n",
    "    schema=wiki_schema,\n",
    "    using=connection_id,\n",
    "    shard_num=2\n",
    ")\n",
    "\n",
    "print(\"Current collections: \",utility.list_collections(using=connection_id))\n",
    "\n",
    "r_collection=Collection(collection_name, using=connection_id)\n",
    "print(\"\\n\", r_collection.schema)"
   ]
  },
  {
   "cell_type": "markdown",
   "id": "5bc7883b",
   "metadata": {},
   "source": [
    "# Define Embedding Model"
   ]
  },
  {
   "cell_type": "code",
   "execution_count": 11,
   "id": "30ab38be",
   "metadata": {},
   "outputs": [],
   "source": [
    "model = SentenceTransformer(\"sentence-transformers/all-MiniLM-L6-v2\")"
   ]
  },
  {
   "cell_type": "markdown",
   "id": "73797bae",
   "metadata": {},
   "source": [
    "# Data Preparation"
   ]
  },
  {
   "cell_type": "code",
   "execution_count": 44,
   "id": "ee5660c2",
   "metadata": {},
   "outputs": [
    {
     "data": {
      "application/vnd.microsoft.datawrangler.viewer.v0+json": {
       "columns": [
        {
         "name": "index",
         "rawType": "int64",
         "type": "integer"
        },
        {
         "name": "Course ID",
         "rawType": "int64",
         "type": "integer"
        },
        {
         "name": "Title",
         "rawType": "object",
         "type": "string"
        },
        {
         "name": "Description",
         "rawType": "object",
         "type": "string"
        }
       ],
       "conversionMethod": "pd.DataFrame",
       "ref": "fac8416e-66a7-4b50-9092-e32d9193f77c",
       "rows": [
        [
         "0",
         "1001",
         "Architecting Big Data applications",
         "Learn how to architect both simple and complex batch processing applications, as you discover the basic principles of big data architectures such as horizontal scaling, distributed processing, technology selection and integration, and scheduling."
        ],
        [
         "1",
         "1002",
         "MLOps Essentials: Monitoring Model Drift and Bias",
         "As more and more ML models are developed and deployed, the need arises to ensure that the models are effective and safe and that they perform as desired. Model monitoring, a core function of MLOps, helps data scientists and MLOps engineers to meet this need. In this course, data analytics expert   discusses the types of monitoring needed for ML models. "
        ],
        [
         "2",
         "1003",
         "Apache Kafka Essential Training: Getting Started",
         "In this course, instructor   introduces Apache Kafka and explains its fundamental concepts and basic operations.  covers basic concepts like messages, topics, logs, and more. He shows you how to use the Kafka command line, as well as partitions and groups. He goes over Kafka Java programming, then concludes with a use case project."
        ],
        [
         "3",
         "1004",
         "Applied AI: Building NLP Apps with Hugging Face Transformers",
         "Explore models designed for common NLP use cases such as question-answering, text summarization, text generation, translation, and more.  gives you tips for customizing models with transfer learning to meet the needs of specific use cases improving your performance and lowering your costs along the way."
        ],
        [
         "4",
         "1005",
         "Deep Learning : Getting started",
         "Deep learning as a technology has grown leaps and bounds in the last few years. More and more AI solutions use deep learning as their foundational technology. Studying this technology, however, has several challenges.  Instructor   starts off with an intro to deep learning, including artificial neural networks and architectures. He navigates through various building blocks of neural networks with simple and easy to understand explanations. "
        ]
       ],
       "shape": {
        "columns": 3,
        "rows": 5
       }
      },
      "text/html": [
       "<div>\n",
       "<style scoped>\n",
       "    .dataframe tbody tr th:only-of-type {\n",
       "        vertical-align: middle;\n",
       "    }\n",
       "\n",
       "    .dataframe tbody tr th {\n",
       "        vertical-align: top;\n",
       "    }\n",
       "\n",
       "    .dataframe thead th {\n",
       "        text-align: right;\n",
       "    }\n",
       "</style>\n",
       "<table border=\"1\" class=\"dataframe\">\n",
       "  <thead>\n",
       "    <tr style=\"text-align: right;\">\n",
       "      <th></th>\n",
       "      <th>Course ID</th>\n",
       "      <th>Title</th>\n",
       "      <th>Description</th>\n",
       "    </tr>\n",
       "  </thead>\n",
       "  <tbody>\n",
       "    <tr>\n",
       "      <th>0</th>\n",
       "      <td>1001</td>\n",
       "      <td>Architecting Big Data applications</td>\n",
       "      <td>Learn how to architect both simple and complex...</td>\n",
       "    </tr>\n",
       "    <tr>\n",
       "      <th>1</th>\n",
       "      <td>1002</td>\n",
       "      <td>MLOps Essentials: Monitoring Model Drift and Bias</td>\n",
       "      <td>As more and more ML models are developed and d...</td>\n",
       "    </tr>\n",
       "    <tr>\n",
       "      <th>2</th>\n",
       "      <td>1003</td>\n",
       "      <td>Apache Kafka Essential Training: Getting Started</td>\n",
       "      <td>In this course, instructor   introduces Apache...</td>\n",
       "    </tr>\n",
       "    <tr>\n",
       "      <th>3</th>\n",
       "      <td>1004</td>\n",
       "      <td>Applied AI: Building NLP Apps with Hugging Fac...</td>\n",
       "      <td>Explore models designed for common NLP use cas...</td>\n",
       "    </tr>\n",
       "    <tr>\n",
       "      <th>4</th>\n",
       "      <td>1005</td>\n",
       "      <td>Deep Learning : Getting started</td>\n",
       "      <td>Deep learning as a technology has grown leaps ...</td>\n",
       "    </tr>\n",
       "  </tbody>\n",
       "</table>\n",
       "</div>"
      ],
      "text/plain": [
       "   Course ID                                              Title  \\\n",
       "0       1001                 Architecting Big Data applications   \n",
       "1       1002  MLOps Essentials: Monitoring Model Drift and Bias   \n",
       "2       1003   Apache Kafka Essential Training: Getting Started   \n",
       "3       1004  Applied AI: Building NLP Apps with Hugging Fac...   \n",
       "4       1005                    Deep Learning : Getting started   \n",
       "\n",
       "                                         Description  \n",
       "0  Learn how to architect both simple and complex...  \n",
       "1  As more and more ML models are developed and d...  \n",
       "2  In this course, instructor   introduces Apache...  \n",
       "3  Explore models designed for common NLP use cas...  \n",
       "4  Deep learning as a technology has grown leaps ...  "
      ]
     },
     "execution_count": 44,
     "metadata": {},
     "output_type": "execute_result"
    }
   ],
   "source": [
    "df = pd.read_csv(\"course-descriptions.csv\")\n",
    "df.head()"
   ]
  },
  {
   "cell_type": "code",
   "execution_count": 20,
   "id": "97ca8928",
   "metadata": {},
   "outputs": [],
   "source": [
    "i_course_id = df[\"Course ID\"].tolist()\n",
    "i_title = df[\"Title\"].tolist()\n",
    "i_description = df[\"Description\"].tolist()\n",
    "\n",
    "i_desc_embedding=[model.encode(i)\n",
    "                  for i in i_description]\n",
    "\n",
    "insert_data=[i_course_id, i_title, i_description, i_desc_embedding]"
   ]
  },
  {
   "cell_type": "markdown",
   "id": "21df2bbb",
   "metadata": {},
   "source": [
    "# Insert Data"
   ]
  },
  {
   "cell_type": "code",
   "execution_count": 21,
   "id": "062f6ac9",
   "metadata": {},
   "outputs": [
    {
     "name": "stdout",
     "output_type": "stream",
     "text": [
      "Inserted data. Now performing flush operation\n"
     ]
    }
   ],
   "source": [
    "course_collection = Collection(collection_name, using=connection_id)\n",
    "\n",
    "mr=course_collection.insert(insert_data)\n",
    "print(\"Inserted data. Now performing flush operation\")\n",
    "course_collection.flush(timeout=180)"
   ]
  },
  {
   "cell_type": "code",
   "execution_count": 22,
   "id": "f3e97bfa",
   "metadata": {},
   "outputs": [
    {
     "data": {
      "text/plain": [
       "{'total_rows': 5,\n",
       " 'indexed_rows': 5,\n",
       " 'pending_index_rows': 0,\n",
       " 'state': 'Finished'}"
      ]
     },
     "execution_count": 22,
     "metadata": {},
     "output_type": "execute_result"
    }
   ],
   "source": [
    "# Build Index\n",
    "index_params = {\n",
    "    \"metric_type\":\"L2\",\n",
    "    \"index_type\":\"IVF_FLAT\",\n",
    "    \"params\" :{\"nlist\":1024}\n",
    "}\n",
    "\n",
    "course_collection.create_index(\n",
    "    field_name=\"desc_embedding\",\n",
    "    index_params=index_params\n",
    ")\n",
    "\n",
    "utility.index_building_progress(collection_name,using=connection_id)"
   ]
  },
  {
   "cell_type": "markdown",
   "id": "eaddec96",
   "metadata": {},
   "source": [
    "# Query Data"
   ]
  },
  {
   "cell_type": "markdown",
   "id": "ea9edc10",
   "metadata": {},
   "source": [
    "# Scalar Search"
   ]
  },
  {
   "cell_type": "code",
   "execution_count": 23,
   "id": "e401a8d6",
   "metadata": {},
   "outputs": [
    {
     "name": "stdout",
     "output_type": "stream",
     "text": [
      "Collection loaded\n",
      "Title: Architecting Big Data applications\n",
      "Description:\n",
      " Learn how to architect both simple and complex batch processing applications, as you discover the basic principles of big data architectures such as horizontal scaling, distributed processing, technology selection and integration, and scheduling.\n"
     ]
    }
   ],
   "source": [
    "course_collection.load()\n",
    "print(\"Collection loaded\")\n",
    "\n",
    "q_result= course_collection.query(\n",
    "    expr = \"course_id == 1001\",\n",
    "    output_fields = [\"title\",\"description\"]\n",
    ")\n",
    "\n",
    "for i, row in enumerate(q_result):\n",
    "    print(\"Title:\", row['title'])\n",
    "    print(\"Description:\\n\", row['description'])"
   ]
  },
  {
   "cell_type": "markdown",
   "id": "f5df1b86",
   "metadata": {},
   "source": [
    "# Vector Search"
   ]
  },
  {
   "cell_type": "code",
   "execution_count": 39,
   "id": "d6435da4",
   "metadata": {},
   "outputs": [],
   "source": [
    "def query_search(query, model, params):\n",
    "    q_vector = model.encode(query)\n",
    "    search_results = course_collection.search(\n",
    "        data=[q_vector],\n",
    "        anns_field=\"desc_embedding\", \n",
    "        param=params,\n",
    "        limit=1, \n",
    "        expr=None, \n",
    "        output_fields=[\"title\", \"description\"],\n",
    "        consistency_level=\"Strong\"\n",
    "    )\n",
    "    \n",
    "    for i in search_results[0]:\n",
    "        course_id = i.id\n",
    "        distance = round(i.distance, 2)\n",
    "        title = i.entity.get(\"title\")\n",
    "        description = i.entity.get(\"description\")\n",
    "\n",
    "        paragraph = f\"{course_id:03} {distance} {title} \\n{description.strip()}\"\n",
    "        print(paragraph)\n"
   ]
  },
  {
   "cell_type": "code",
   "execution_count": 40,
   "id": "f273203f",
   "metadata": {},
   "outputs": [
    {
     "name": "stdout",
     "output_type": "stream",
     "text": [
      "1002 1.05 MLOps Essentials: Monitoring Model Drift and Bias \n",
      "As more and more ML models are developed and deployed, the need arises to ensure that the models are effective and safe and that they perform as desired. Model monitoring, a core function of MLOps, helps data scientists and MLOps engineers to meet this need. In this course, data analytics expert   discusses the types of monitoring needed for ML models.\n"
     ]
    }
   ],
   "source": [
    "query = \"Give me courses related to MLOps\"\n",
    "query_search(query, model, index_params)"
   ]
  },
  {
   "cell_type": "code",
   "execution_count": 47,
   "id": "ee0f5b9e",
   "metadata": {},
   "outputs": [
    {
     "name": "stdout",
     "output_type": "stream",
     "text": [
      "1005 0.72 Deep Learning : Getting started \n",
      "Deep learning as a technology has grown leaps and bounds in the last few years. More and more AI solutions use deep learning as their foundational technology. Studying this technology, however, has several challenges.  Instructor   starts off with an intro to deep learning, including artificial neural networks and architectures. He navigates through various building blocks of neural networks with simple and easy to understand explanations.\n"
     ]
    }
   ],
   "source": [
    "query = \"Give Courses related to deep learning\"\n",
    "query_search(query, model, index_params)"
   ]
  },
  {
   "cell_type": "code",
   "execution_count": 49,
   "id": "62b48c0e",
   "metadata": {},
   "outputs": [
    {
     "name": "stdout",
     "output_type": "stream",
     "text": [
      "1003 0.48 Apache Kafka Essential Training: Getting Started \n",
      "In this course, instructor   introduces Apache Kafka and explains its fundamental concepts and basic operations.  covers basic concepts like messages, topics, logs, and more. He shows you how to use the Kafka command line, as well as partitions and groups. He goes over Kafka Java programming, then concludes with a use case project.\n"
     ]
    }
   ],
   "source": [
    "query = \"Give me courses related to Apache Kafka Essentials\"\n",
    "query_search(query, model, index_params)"
   ]
  }
 ],
 "metadata": {
  "kernelspec": {
   "display_name": ".venv",
   "language": "python",
   "name": "python3"
  },
  "language_info": {
   "codemirror_mode": {
    "name": "ipython",
    "version": 3
   },
   "file_extension": ".py",
   "mimetype": "text/x-python",
   "name": "python",
   "nbconvert_exporter": "python",
   "pygments_lexer": "ipython3",
   "version": "3.13.0"
  }
 },
 "nbformat": 4,
 "nbformat_minor": 5
}
